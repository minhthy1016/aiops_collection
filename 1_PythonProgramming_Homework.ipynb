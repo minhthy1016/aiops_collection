{
  "nbformat": 4,
  "nbformat_minor": 0,
  "metadata": {
    "colab": {
      "provenance": [],
      "include_colab_link": true
    },
    "kernelspec": {
      "name": "python3",
      "display_name": "Python 3"
    },
    "language_info": {
      "name": "python"
    }
  },
  "cells": [
    {
      "cell_type": "markdown",
      "metadata": {
        "id": "view-in-github",
        "colab_type": "text"
      },
      "source": [
        "<a href=\"https://colab.research.google.com/github/minhthy1016/aiops_collection/blob/main/1_PythonProgramming_Homework.ipynb\" target=\"_parent\"><img src=\"https://colab.research.google.com/assets/colab-badge.svg\" alt=\"Open In Colab\"/></a>"
      ]
    },
    {
      "cell_type": "markdown",
      "metadata": {
        "id": "DIHw5MQJDS4-"
      },
      "source": [
        "# 1. Data Structure (mỗi câu 0.5)\n",
        "\n",
        "Cho một dictionary gồm tên và điểm số."
      ]
    },
    {
      "cell_type": "code",
      "execution_count": null,
      "metadata": {
        "id": "DxxhVWlqDcap"
      },
      "outputs": [],
      "source": [
        "points = {'an': 9, 'binh': 7, 'khanh': 8, 'linh': 10, 'huyen': 6}"
      ]
    },
    {
      "cell_type": "markdown",
      "metadata": {
        "id": "i-6mwO4zD2it"
      },
      "source": [
        "1. Hãy sắp xếp dictionary trên theo điểm số tăng dần.\n",
        "2. Hãy tạo một dictionary có key là điểm số và giá trị là tên."
      ]
    },
    {
      "cell_type": "code",
      "source": [],
      "metadata": {
        "id": "zT43Ew17Ov3g"
      },
      "execution_count": null,
      "outputs": []
    },
    {
      "cell_type": "markdown",
      "source": [
        "Cho câu văn sau:\n",
        "\n",
        "`vi mot cong dong AI vung vung manh manh hon`"
      ],
      "metadata": {
        "id": "O3LkW11f2iuk"
      }
    },
    {
      "cell_type": "markdown",
      "metadata": {
        "id": "vXu9wuUIEbO8"
      },
      "source": [
        "3. Phân tách câu văn trên thành một list theo khoảng trắng.\n",
        "4. Tìm các giá trị duy nhất của list đó.\n",
        "5. Đếm số lần lặp lại của mỗi phần tử trong list.\n",
        "6. Xóa các phần tử trong list mà có chữ cái bắt đầu là `v`.\n",
        "\n",
        "7. Đảo ngược vị trí các phần tử trong list."
      ]
    },
    {
      "cell_type": "markdown",
      "metadata": {
        "id": "S4AeWcFTFMpb"
      },
      "source": [
        "8. (1.5 điểm) Viết một trò chơi dự đoán chữ số may mắn có luật chơi như sau:\n",
        "\n",
        "Chương trình sẽ khởi tạo một chữ số ngẫu nhiên. Người chơi sẽ nhập 1 giá trị từ bàn phím. Nếu chữ số nhập vào bằng số ngẫu nhiên thì in ra `you are wined!` và kết thúc chương trình. Nếu số nhập vào lớn hơn số ngẫu nhiên thì in ra gợi ý `your guess should be less than {số vừa nhập}`. Nếu số nhập vào nhỏ hơn số ngẫu nhiên thì in ra gợi ý `your guess should be greater than {số vừa nhập}`. Số lượt chơi không được vượt quá 5.\n"
      ]
    },
    {
      "cell_type": "markdown",
      "metadata": {
        "id": "XMqXOsjiVXR9"
      },
      "source": [
        "# 2. Class and Module (mỗi câu 1 điểm)\n",
        "\n",
        "1. Hãy xây dựng một class AI với hai thuộc tính là algorithm (tên thuật toán) và model_type (dạng thuật toán dự báo hay phân loại) trong hàm tạo (_constructor_).\n",
        "\n",
        "2. Viết thêm hai phương thức cho class AI là `fit` (huấn luyện) với đầu vào là các tham số `model, X_train, y_train` và `predict` (dự báo) với đầu vào là các tham số `model, X_pred`. (Không cần phải lấy dữ liệu thật, chỉ cần print ra các đối số bên trong mỗi hàm).\n",
        "\n",
        "3. Khởi tạo object cho class AI và gọi các hàm phương thức vừa thêm mới trong câu lệnh `if __name__ == '__main__'`.\n",
        "\n",
        "4. Xây dựng một class DeepLearning kế thừa từ AI. Trong class này có một hàm mở rộng là `train_on_epoch` (huấn luyện trên từng epoch) với đầu vào là `model, X_train, y_train, epoch` và hàm viết đè là `fit` có thêm tham số `learning_rate`.\n",
        "\n",
        "5. Tổ chức project thành các module, những module này gồm các files:\n",
        "- `model.py`: chứa class `DeepLearning` và class `AI`.\n",
        "- `dataset.py`: chứa class `Dataset`, tự xây dựng hàm tạo cho class này với hai thuộc tính là `input_datas` và `labels`.\n",
        "- `train.py`: import hai class là `DeepLearning` và `Dataset` từ hai module `model.py` và `dataset.py`, khởi tạo các object của hai class này và sử dụng các hàm phương thức của nó."
      ]
    }
  ]
}